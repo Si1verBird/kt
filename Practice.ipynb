{
 "cells": [
  {
   "cell_type": "code",
   "execution_count": 4,
   "id": "57611a84-8068-4c34-95bb-5b41e95a6a8f",
   "metadata": {},
   "outputs": [
    {
     "name": "stdout",
     "output_type": "stream",
     "text": [
      "/opt/anaconda3/bin/python\n"
     ]
    }
   ],
   "source": [
    "\n",
    "import sys\n",
    "print(sys.executable)\n"
   ]
  },
  {
   "cell_type": "code",
   "execution_count": 10,
   "id": "8d45a1ff-9098-448d-af42-5b6102c7a28d",
   "metadata": {},
   "outputs": [
    {
     "name": "stdout",
     "output_type": "stream",
     "text": [
      "['/Users/eunse/software engineering', '/opt/anaconda3/lib/python312.zip', '/opt/anaconda3/lib/python3.12', '/opt/anaconda3/lib/python3.12/lib-dynload', '', '/opt/anaconda3/lib/python3.12/site-packages', '/opt/anaconda3/lib/python3.12/site-packages/aeosa', '/user/eunse/debuggingbook', '/user/eunse/debuggingbook', '/path/to/debuggingbook', '/Users/eunse/debuggingbook']\n"
     ]
    }
   ],
   "source": [
    "import sys\n",
    "print(sys.path)\n"
   ]
  },
  {
   "cell_type": "code",
   "execution_count": 18,
   "id": "321dacb1-a1e2-4fc7-9cd9-7138d75befac",
   "metadata": {},
   "outputs": [
    {
     "data": {
      "text/html": [
       "\n",
       "        <iframe\n",
       "            width=\"640\"\n",
       "            height=\"360\"\n",
       "            src=\"https://www.youtube-nocookie.com/embed/-nOxI6Ev_I4\"\n",
       "            frameborder=\"0\"\n",
       "            allowfullscreen\n",
       "            \n",
       "        ></iframe>\n",
       "        "
      ],
      "text/plain": [
       "<IPython.lib.display.IFrame at 0x1531e89b0>"
      ]
     },
     "execution_count": 18,
     "metadata": {},
     "output_type": "execute_result"
    }
   ],
   "source": [
    "import sys\n",
    "sys.path.append('/Users/eunse/debuggingbook/notebooks')  # 'bookutils' 폴더의 상위 경로\n",
    "from bookutils import YouTubeVideo\n",
    "from bookutils import YouTubeVideo\n",
    "YouTubeVideo(\"-nOxI6Ev_I4\")"
   ]
  },
  {
   "cell_type": "code",
   "execution_count": 20,
   "id": "66cabaef-c641-426f-a121-bfc08db45819",
   "metadata": {},
   "outputs": [
    {
     "ename": "SyntaxError",
     "evalue": "invalid syntax (347780134.py, line 1)",
     "output_type": "error",
     "traceback": [
      "\u001b[0;36m  Cell \u001b[0;32mIn[20], line 1\u001b[0;36m\u001b[0m\n\u001b[0;31m    from debuggingbook.Intro_Debugging import <identifier>\u001b[0m\n\u001b[0m                                              ^\u001b[0m\n\u001b[0;31mSyntaxError\u001b[0m\u001b[0;31m:\u001b[0m invalid syntax\n"
     ]
    }
   ],
   "source": [
    "from debuggingbook.Intro_Debugging import <identifier>"
   ]
  },
  {
   "cell_type": "code",
   "execution_count": null,
   "id": "368c37af-3e50-47f0-8e9f-909f0bf4d625",
   "metadata": {},
   "outputs": [],
   "source": [
    "import json #python 파일로 저장되어 유틸리티로 이용 -> python3 addseqnum.py Intro_Debugging\n",
    "import sys\n",
    "\n",
    "def addseqnum(notestring: str) -> str:\n",
    "    noteobj = json.loads(notestring)\n",
    "\n",
    "    cells = noteobj[\"cells\"] # list\n",
    "\n",
    "    for seq, cell in enumerate(cells, start=1):\n",
    "        metadata = cell[\"metadata\"] if \"metadata\" in cell else dict()\n",
    "        tags = metadata[\"tags\"] if \"tags\" in metadata else list()\n",
    "        tags.append(str(seq))\n",
    "\n",
    "        metadata[\"tags\"] = tags\n",
    "        cell[\"metadata\"] = metadata\n",
    "\n",
    "    return json.dumps(noteobj, indent=2)\n",
    "\n",
    "\n",
    "def main():\n",
    "    if len(sys.argv) > 0:\n",
    "        path = sys.argv[1]\n",
    "        with open(path, \"r\") as f:\n",
    "            tagged = addseqnum(f.read())\n",
    "\n",
    "        with open(path, \"w\") as f:\n",
    "            f.write(tagged)\n",
    "\n",
    "\n",
    "if __name__ == \"__main__\":\n",
    "    main()"
   ]
  }
 ],
 "metadata": {
  "kernelspec": {
   "display_name": "Python 3 (ipykernel)",
   "language": "python",
   "name": "python3"
  },
  "language_info": {
   "codemirror_mode": {
    "name": "ipython",
    "version": 3
   },
   "file_extension": ".py",
   "mimetype": "text/x-python",
   "name": "python",
   "nbconvert_exporter": "python",
   "pygments_lexer": "ipython3",
   "version": "3.12.4"
  }
 },
 "nbformat": 4,
 "nbformat_minor": 5
}
